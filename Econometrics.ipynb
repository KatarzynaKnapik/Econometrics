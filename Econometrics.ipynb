{
 "cells": [
  {
   "cell_type": "code",
   "execution_count": 1,
   "metadata": {},
   "outputs": [],
   "source": [
    "import numpy as np"
   ]
  },
  {
   "cell_type": "code",
   "execution_count": 3,
   "metadata": {},
   "outputs": [],
   "source": [
    "arr = np.array([1,6,6,3,12,5,9])"
   ]
  },
  {
   "cell_type": "code",
   "execution_count": 6,
   "metadata": {},
   "outputs": [
    {
     "data": {
      "text/plain": [
       "6.0"
      ]
     },
     "execution_count": 6,
     "metadata": {},
     "output_type": "execute_result"
    }
   ],
   "source": [
    "X = arr.mean()\n",
    "X"
   ]
  },
  {
   "cell_type": "code",
   "execution_count": 9,
   "metadata": {},
   "outputs": [
    {
     "data": {
      "text/plain": [
       "3.3806170189140663"
      ]
     },
     "execution_count": 9,
     "metadata": {},
     "output_type": "execute_result"
    }
   ],
   "source": [
    "std = arr.std()\n",
    "std"
   ]
  },
  {
   "cell_type": "code",
   "execution_count": 13,
   "metadata": {},
   "outputs": [
    {
     "data": {
      "text/plain": [
       "56.3436169819011"
      ]
     },
     "execution_count": 13,
     "metadata": {},
     "output_type": "execute_result"
    }
   ],
   "source": [
    "V = std / X * 100\n",
    "V"
   ]
  },
  {
   "cell_type": "code",
   "execution_count": 14,
   "metadata": {},
   "outputs": [],
   "source": [
    "arr_x = np.array([40,60,55,65,45])\n",
    "arr_y = np.array([11,19,14,15,21])"
   ]
  },
  {
   "cell_type": "code",
   "execution_count": 16,
   "metadata": {},
   "outputs": [
    {
     "data": {
      "text/plain": [
       "array([[1.        , 0.18084106],\n",
       "       [0.18084106, 1.        ]])"
      ]
     },
     "execution_count": 16,
     "metadata": {},
     "output_type": "execute_result"
    }
   ],
   "source": [
    "r_xy = np.corrcoef(arr_x, arr_y)\n",
    "r_xy"
   ]
  },
  {
   "cell_type": "markdown",
   "metadata": {},
   "source": [
    "# Efekt katalizy"
   ]
  },
  {
   "cell_type": "code",
   "execution_count": 291,
   "metadata": {},
   "outputs": [
    {
     "data": {
      "text/plain": [
       "array([[ 1.  , -0.76, -0.44],\n",
       "       [-0.76,  1.  , -0.18],\n",
       "       [-0.44, -0.18,  1.  ]])"
      ]
     },
     "execution_count": 291,
     "metadata": {},
     "output_type": "execute_result"
    }
   ],
   "source": [
    "R0 = np.array([-0.7, 0.22, -0.45])\n",
    "R = np.array([1, -0.76, -0.44, -0.76, 1, -0.18, -0.44, -0.18, 1]).reshape([3,3])\n",
    "R"
   ]
  },
  {
   "cell_type": "code",
   "execution_count": 292,
   "metadata": {},
   "outputs": [
    {
     "name": "stdout",
     "output_type": "stream",
     "text": [
      "{0.7: [0, 2], 0.22: [1, 0], 0.45: [2, 1]}\n"
     ]
    }
   ],
   "source": [
    "d = dict()\n",
    "\n",
    "for i, el in enumerate(R0):\n",
    "    if abs(el) not in d:\n",
    "        d[abs(el)] = [i]\n",
    "\n",
    "R0p = sorted(abs(R0))\n",
    "\n",
    "for i, el in enumerate(R0p):\n",
    "    d[abs(el)].append(i)\n",
    "    \n",
    "print(d)"
   ]
  },
  {
   "cell_type": "code",
   "execution_count": 293,
   "metadata": {},
   "outputs": [
    {
     "data": {
      "text/plain": [
       "array([[1.  , 0.76, 0.44],\n",
       "       [0.76, 1.  , 0.18],\n",
       "       [0.44, 0.18, 1.  ]])"
      ]
     },
     "execution_count": 293,
     "metadata": {},
     "output_type": "execute_result"
    }
   ],
   "source": [
    "shape = R.shape[0] * R.shape[1]\n",
    "a = np.zeros(shape).reshape([R.shape[0], -1])\n",
    "\n",
    "indexes = []\n",
    "for i, el in enumerate(R0):\n",
    "    if abs(el) != el:\n",
    "        indexes.append(i)\n",
    "        \n",
    "for i in indexes:\n",
    "    a[:,i] += 1\n",
    "    a[i,:] += 1\n",
    "\n",
    "a = np.where(a > 0, -1, 1)\n",
    "a\n",
    "R = a * R\n",
    "np.fill_diagonal(R, 1)\n",
    "R"
   ]
  },
  {
   "cell_type": "code",
   "execution_count": 329,
   "metadata": {},
   "outputs": [
    {
     "name": "stdout",
     "output_type": "stream",
     "text": [
      "{0: 1, 1: 2, 2: 0}\n"
     ]
    },
    {
     "data": {
      "text/plain": [
       "array([[1.  , 0.18, 0.76],\n",
       "       [0.18, 1.  , 0.44],\n",
       "       [0.76, 0.44, 1.  ]])"
      ]
     },
     "execution_count": 329,
     "metadata": {},
     "output_type": "execute_result"
    }
   ],
   "source": [
    "shape = R.shape[0] * R.shape[1]\n",
    "Rp = np.zeros(shape).reshape([R.shape[0], -1])\n",
    "np.fill_diagonal(Rp, 1)\n",
    "Rp\n",
    "\n",
    "map_Z_to_X = {k[1]:k[0] for k in sorted(d.values(), key=lambda item: item[1])}\n",
    "print(map_Z_to_X)\n",
    "for i in range(R.shape[0]):\n",
    "    for j in range(R.shape[1]):\n",
    "        if R[i][j] == 1:\n",
    "            continue\n",
    "        else:\n",
    "            Rp[i][j] = R[map_Z_to_X[i]][map_Z_to_X[j]]\n",
    "\n",
    "Rp"
   ]
  },
  {
   "cell_type": "markdown",
   "metadata": {},
   "source": [
    "# Katalizator i macierz neutralna"
   ]
  },
  {
   "cell_type": "code",
   "execution_count": 323,
   "metadata": {},
   "outputs": [
    {
     "data": {
      "text/plain": [
       "array([[1.        , 0.48888889, 0.31428571],\n",
       "       [0.48888889, 1.        , 0.64285714],\n",
       "       [0.31428571, 0.64285714, 1.        ]])"
      ]
     },
     "execution_count": 323,
     "metadata": {},
     "output_type": "execute_result"
    }
   ],
   "source": [
    "# tworzenie macierzy uniwersalnej\n",
    "\n",
    "shape = R.shape[0] * R.shape[1]\n",
    "Q = np.zeros(shape).reshape([R.shape[0], -1])\n",
    "\n",
    "R0p_copy = R0p\n",
    "\n",
    "for i, x in enumerate(R0p):\n",
    "    for j, y in enumerate(R0p_copy):\n",
    "        if x < y:\n",
    "             Q[i][j] = x/y\n",
    "\n",
    "\n",
    "Q += np.rot90(np.fliplr(Q))\n",
    "np.fill_diagonal(Q, 1)\n",
    "Q"
   ]
  },
  {
   "cell_type": "code",
   "execution_count": 335,
   "metadata": {},
   "outputs": [
    {
     "name": "stdout",
     "output_type": "stream",
     "text": [
      "Kataliza między Z1 i Z3, czyli X2 i X1\n",
      "Zmienna kataliczna: X2\n"
     ]
    }
   ],
   "source": [
    "# porównanie czy Rp z Q\n",
    "\n",
    "if (Q < 0).any() or (Q > Rp).any():\n",
    "    if (Q < 0).any():\n",
    "        print('Efekt katalizy - elementy ujemne w maicerzy')\n",
    "    if (Q > Rp).any():\n",
    "        for i in range(Rp.shape[0]):\n",
    "            for j in range(i, Rp.shape[1]):\n",
    "                if Q[i][j] < Rp[i][j]:\n",
    "                    print(f'Kataliza między Z{i+1} i Z{j+1}, czyli X{map_Z_to_X[i]+1} i X{map_Z_to_X[j]+1}')\n",
    "                    if i < j:\n",
    "                        print(f'Zmienna kataliczna: X{map_Z_to_X[i]+1}')\n",
    "                    else:\n",
    "                        print(f'Zmienna kataliczna: X{map_Z_to_X[j]+1}')\n",
    "        \n",
    "else:\n",
    "    print('False')"
   ]
  },
  {
   "cell_type": "markdown",
   "metadata": {},
   "source": [
    "# Obliczanie regresji"
   ]
  },
  {
   "cell_type": "code",
   "execution_count": 768,
   "metadata": {},
   "outputs": [
    {
     "data": {
      "text/plain": [
       "array([[ 1,  1],\n",
       "       [ 1,  2],\n",
       "       [ 1,  3],\n",
       "       [ 1,  4],\n",
       "       [ 1,  5],\n",
       "       [ 1,  6],\n",
       "       [ 1,  7],\n",
       "       [ 1,  8],\n",
       "       [ 1,  9],\n",
       "       [ 1, 10],\n",
       "       [ 1, 11],\n",
       "       [ 1, 12],\n",
       "       [ 1, 13],\n",
       "       [ 1, 14],\n",
       "       [ 1, 15]])"
      ]
     },
     "execution_count": 768,
     "metadata": {},
     "output_type": "execute_result"
    }
   ],
   "source": [
    "Y = np.array([10,15,13,17,18,25,22,20,25,35,30,35,38,40,41])\n",
    "X = np.array([[1,1,1,1,1,1,1,1,1,1,1,1,1,1,1],[1,2,3,4,5,6,7,8,9,10,11,12,13,14,15]]).T\n",
    "X\n",
    "               "
   ]
  },
  {
   "cell_type": "code",
   "execution_count": 520,
   "metadata": {},
   "outputs": [],
   "source": [
    "from numpy.linalg import inv\n",
    "from numpy.linalg import matrix_rank\n",
    "import math\n",
    "from functools import reduce"
   ]
  },
  {
   "cell_type": "code",
   "execution_count": 521,
   "metadata": {},
   "outputs": [],
   "source": [
    "def multiply_matrix(A,B):\n",
    "    try:\n",
    "        return A.T @ B\n",
    "    except:\n",
    "        print('Cannot multiply')\n",
    "        "
   ]
  },
  {
   "cell_type": "code",
   "execution_count": 522,
   "metadata": {},
   "outputs": [
    {
     "data": {
      "text/plain": [
       "array([[  10,  103,   60],\n",
       "       [ 103, 1089,  638],\n",
       "       [  60,  638,  390]])"
      ]
     },
     "execution_count": 522,
     "metadata": {},
     "output_type": "execute_result"
    }
   ],
   "source": [
    "# obliczamy X*X.T - potrzebne do macierzy odwrotnej\n",
    "\n",
    "L = multiply_matrix(X,X)\n",
    "L"
   ]
  },
  {
   "cell_type": "code",
   "execution_count": 523,
   "metadata": {},
   "outputs": [],
   "source": [
    "def inverse_matrix(A, rank=3):\n",
    "    x = []\n",
    "    if np.linalg.det(A) != 0:\n",
    "        x.append(True)\n",
    "    else:\n",
    "        x.append(False)\n",
    "        print('Cannot inverse - matrix determinant equals 0 - modelu nie da się oszacować!')\n",
    "        \n",
    "    if (A.transpose() == A).all():\n",
    "        x.append(True)\n",
    "        \n",
    "    else:\n",
    "        x.append(False)\n",
    "        print('Macierz niesymetryczna')\n",
    "#         return inv(A)\n",
    "    \n",
    "    if matrix_rank(A) == rank:\n",
    "        x.append(True)\n",
    "    else:\n",
    "        x.append(False)\n",
    "        print('Matrix rank error')\n",
    "    \n",
    "#     s = 0\n",
    "#     for el in A.diagonal():\n",
    "#         if el < 0:\n",
    "#             s += 1\n",
    "    s = reduce(lambda acc, el: el < 0, A.diagonal() )\n",
    "    \n",
    "    if s != 0:\n",
    "        x.append(False)\n",
    "        print('Main diagonal elements not positive ')\n",
    "    else:\n",
    "        x.append(True)\n",
    "        \n",
    "    if all(x) == True:\n",
    "        return inv(A)\n",
    "    else:\n",
    "        print('Cannot inverse matrix')\n",
    "    "
   ]
  },
  {
   "cell_type": "code",
   "execution_count": 524,
   "metadata": {},
   "outputs": [
    {
     "data": {
      "text/plain": [
       "array([[ 3.98781038, -0.42663657,  0.08442438],\n",
       "       [-0.42663657,  0.06772009, -0.04514673],\n",
       "       [ 0.08442438, -0.04514673,  0.06343115]])"
      ]
     },
     "execution_count": 524,
     "metadata": {},
     "output_type": "execute_result"
    }
   ],
   "source": [
    "inverse = inverse_matrix(L) \n",
    "inverse"
   ]
  },
  {
   "cell_type": "code",
   "execution_count": 525,
   "metadata": {},
   "outputs": [
    {
     "data": {
      "text/plain": [
       "array([58.91963883,  2.18735892,  3.24176072])"
      ]
     },
     "execution_count": 525,
     "metadata": {},
     "output_type": "execute_result"
    }
   ],
   "source": [
    "# wyznaczanie paramterów a modelu teoretycznego\n",
    "def get_parameters(A, B, C):\n",
    "    return A @ B.T @ C\n",
    "\n",
    "params = get_parameters(inverse, X, Y)\n",
    "params"
   ]
  },
  {
   "cell_type": "markdown",
   "metadata": {},
   "source": [
    "# Dopasowanie modelu do danych empirycznych"
   ]
  },
  {
   "cell_type": "code",
   "execution_count": 526,
   "metadata": {},
   "outputs": [],
   "source": [
    "def check_real_vs_teoretical_y(regression_params, x_values):\n",
    "    \n",
    "    theoretical_y = []\n",
    "    for row in x_values:\n",
    "        partial = 0\n",
    "        for i in range(len(regression_params)):\n",
    "            partial += row[i] * regression_params[i]\n",
    "        y = partial\n",
    "        theoretical_y.append(y)\n",
    "    \n",
    "    return theoretical_y\n"
   ]
  },
  {
   "cell_type": "code",
   "execution_count": 527,
   "metadata": {
    "scrolled": true
   },
   "outputs": [
    {
     "data": {
      "text/plain": [
       "[97.00203160270901,\n",
       " 105.67291196388288,\n",
       " 113.28939051918759,\n",
       " 111.10203160270908,\n",
       " 86.14379232505664,\n",
       " 91.57291196388283,\n",
       " 92.62731376975199,\n",
       " 101.37674943566604,\n",
       " 108.91467268623056,\n",
       " 101.29819413092586]"
      ]
     },
     "execution_count": 527,
     "metadata": {},
     "output_type": "execute_result"
    }
   ],
   "source": [
    "theoretical_y = check_real_vs_teoretical_y(params, X)\n",
    "theoretical_y"
   ]
  },
  {
   "cell_type": "code",
   "execution_count": 528,
   "metadata": {},
   "outputs": [],
   "source": [
    "def get_rests_theoretical_vs_real_y(theoretical_y, real_y):\n",
    "    rests = []\n",
    "    for i in range(len(real_y)):\n",
    "        rests.append(real_y[i] - theoretical_y[i])\n",
    "    return rests"
   ]
  },
  {
   "cell_type": "code",
   "execution_count": 529,
   "metadata": {},
   "outputs": [
    {
     "data": {
      "text/plain": [
       "[-2.0020316027090104,\n",
       " -2.672911963882882,\n",
       " -2.2893905191875916,\n",
       " -0.10203160270907574,\n",
       " 3.856207674943363,\n",
       " 0.42708803611716917,\n",
       " -4.627313769751993,\n",
       " 0.6232505643339579,\n",
       " 7.08532731376944,\n",
       " -0.29819413092586444]"
      ]
     },
     "execution_count": 529,
     "metadata": {},
     "output_type": "execute_result"
    }
   ],
   "source": [
    "e = get_rests_theoretical_vs_real_y(theoretical_y, Y)\n",
    "e"
   ]
  },
  {
   "cell_type": "code",
   "execution_count": 530,
   "metadata": {},
   "outputs": [],
   "source": [
    "# wariancja resztowa\n",
    "\n",
    "def remainder_variance(rests_arr, real_y, model_params):\n",
    "    return sum(np.power(rests_arr,2)) / (len(real_y) - (len(model_params)))\n"
   ]
  },
  {
   "cell_type": "code",
   "execution_count": 531,
   "metadata": {},
   "outputs": [
    {
     "data": {
      "text/plain": [
       "14.792615285391813"
      ]
     },
     "execution_count": 531,
     "metadata": {},
     "output_type": "execute_result"
    }
   ],
   "source": [
    "Se_2 = remainder_variance(e, Y, params)\n",
    "Se_2"
   ]
  },
  {
   "cell_type": "code",
   "execution_count": 532,
   "metadata": {},
   "outputs": [],
   "source": [
    "# odchylenie standardowe reszt\n",
    "\n",
    "def remainder_std(variance):\n",
    "    return math.sqrt(variance)"
   ]
  },
  {
   "cell_type": "code",
   "execution_count": 533,
   "metadata": {},
   "outputs": [
    {
     "data": {
      "text/plain": [
       "3.8461169100005024"
      ]
     },
     "execution_count": 533,
     "metadata": {},
     "output_type": "execute_result"
    }
   ],
   "source": [
    "Se = remainder_std(Se_2)\n",
    "Se"
   ]
  },
  {
   "cell_type": "code",
   "execution_count": 534,
   "metadata": {},
   "outputs": [],
   "source": [
    "# współczynnik zmienności losowej\n",
    "\n",
    "def coeff_of_variation(real_y, remainder_std):\n",
    "    return remainder_std / np.mean(real_y)"
   ]
  },
  {
   "cell_type": "code",
   "execution_count": 535,
   "metadata": {},
   "outputs": [
    {
     "data": {
      "text/plain": [
       "0.0381181061447027"
      ]
     },
     "execution_count": 535,
     "metadata": {},
     "output_type": "execute_result"
    }
   ],
   "source": [
    "W_e = coeff_of_variation(Y, Se)\n",
    "W_e"
   ]
  },
  {
   "cell_type": "code",
   "execution_count": 536,
   "metadata": {},
   "outputs": [
    {
     "name": "stdout",
     "output_type": "stream",
     "text": [
      "Jest ok\n"
     ]
    }
   ],
   "source": [
    "if W_e < 0.1:\n",
    "    print('Jest ok')\n",
    "else:\n",
    "    print('Model źle dopasowany')"
   ]
  },
  {
   "cell_type": "markdown",
   "metadata": {},
   "source": [
    "# Współczynnik determinacji i zbieżność : R^2 i fi_2"
   ]
  },
  {
   "cell_type": "code",
   "execution_count": 537,
   "metadata": {},
   "outputs": [],
   "source": [
    "def get_R2(error, real_y):\n",
    "    nominator = np.sum(np.power(error,2))\n",
    "    denominator = np.sum(np.power(real_y-np.mean(real_y),2))\n",
    "    return 1 - (nominator / denominator)"
   ]
  },
  {
   "cell_type": "code",
   "execution_count": 538,
   "metadata": {},
   "outputs": [
    {
     "data": {
      "text/plain": [
       "0.8762715892009288"
      ]
     },
     "execution_count": 538,
     "metadata": {},
     "output_type": "execute_result"
    }
   ],
   "source": [
    "R2 = get_R2(e, Y)\n",
    "R2"
   ]
  },
  {
   "cell_type": "code",
   "execution_count": 539,
   "metadata": {},
   "outputs": [],
   "source": [
    "def get_fi2(R2):\n",
    "    return 1 - R2"
   ]
  },
  {
   "cell_type": "code",
   "execution_count": 540,
   "metadata": {},
   "outputs": [
    {
     "data": {
      "text/plain": [
       "0.12372841079907115"
      ]
     },
     "execution_count": 540,
     "metadata": {},
     "output_type": "execute_result"
    }
   ],
   "source": [
    "fi2 = get_fi2(R2)\n",
    "fi2"
   ]
  },
  {
   "cell_type": "code",
   "execution_count": 541,
   "metadata": {},
   "outputs": [],
   "source": [
    "def get_R(R2):\n",
    "    return math.sqrt(R2)"
   ]
  },
  {
   "cell_type": "code",
   "execution_count": 542,
   "metadata": {},
   "outputs": [
    {
     "data": {
      "text/plain": [
       "0.9360937929507539"
      ]
     },
     "execution_count": 542,
     "metadata": {},
     "output_type": "execute_result"
    }
   ],
   "source": [
    "R = get_R(R2)\n",
    "R"
   ]
  },
  {
   "cell_type": "markdown",
   "metadata": {},
   "source": [
    "# Istotność wsp. korelacji R"
   ]
  },
  {
   "cell_type": "markdown",
   "metadata": {},
   "source": [
    "1. Hipotezy:\n",
    "    - H0: R = 0\n",
    "    - H1: R != 0"
   ]
  },
  {
   "cell_type": "code",
   "execution_count": 543,
   "metadata": {},
   "outputs": [
    {
     "name": "stdout",
     "output_type": "stream",
     "text": [
      "F > F*  - Wsp, korelacji wielorajiej jest istotny. Dopasowanie modelu do danych jest wysokie.\n"
     ]
    },
    {
     "data": {
      "text/plain": [
       "(24.78776331479621, 4.73741412777588)"
      ]
     },
     "execution_count": 543,
     "metadata": {},
     "output_type": "execute_result"
    }
   ],
   "source": [
    "#define F-test function\n",
    "\n",
    "import scipy.stats \n",
    "\n",
    "def f_test(R2, real_y, parameters, p):\n",
    " \n",
    "    f = (R2 / (1 - R2)) * ((len(real_y) - len(params)) / (len(params) - 1))\n",
    "\n",
    "    dfn = len(params) - 1\n",
    "    dfd = len(real_y) - len(params)\n",
    "    crit = scipy.stats.f.ppf(q=1-p, dfn=dfn, dfd=dfd) \n",
    "    if f > crit:\n",
    "        print('F > F*  - Wsp, korelacji wielorajiej jest istotny. Dopasowanie modelu do danych jest wysokie.')\n",
    "    else:\n",
    "        print('F < F*  - Wsp, korelacji wielorajiej jest NIEistitny. Dopasowanie modelu do danych jest niskie.')\n",
    "    return f, crit\n",
    "   \n",
    "\n",
    "#perform F-test\n",
    "f_test(R2, Y, params, 0.05)\n"
   ]
  },
  {
   "cell_type": "markdown",
   "metadata": {},
   "source": [
    "# Błędy standardowe ocen parametrów - model z 1 zmienna objaśniającą"
   ]
  },
  {
   "cell_type": "code",
   "execution_count": 544,
   "metadata": {},
   "outputs": [],
   "source": [
    "import statistics\n",
    "\n",
    "def calc_std_a0(remainder_std, x_values, num_observations):\n",
    "    xt_mean = np.mean(x_values)\n",
    "    xt_2 = sum(np.power(x_values, 2))\n",
    "    sqrt_value = xt_2 / (num_observations * (xt_2 - num_observations * np.power(xt_mean, 2)))\n",
    "    return remainder_std * np.sqrt(sqrt_value)"
   ]
  },
  {
   "cell_type": "code",
   "execution_count": 545,
   "metadata": {
    "scrolled": true
   },
   "outputs": [
    {
     "name": "stdout",
     "output_type": "stream",
     "text": [
      "S(a0) = 7.571523266540974\n"
     ]
    }
   ],
   "source": [
    "S_a0 = calc_std_a0(Se, X[:, 1], len(Y))\n",
    "print(f'S(a0) = {S_a0}')"
   ]
  },
  {
   "cell_type": "code",
   "execution_count": 546,
   "metadata": {},
   "outputs": [],
   "source": [
    "def calc_std_a1(remainder_std, x_values, num_observations):\n",
    "    xt_2 = sum(np.power(x_values, 2))\n",
    "    xt_mean = np.mean(x_values)\n",
    "    sqrt_value = xt_2 - num_observations * np.power(xt_mean, 2)\n",
    "    return remainder_std / np.sqrt(sqrt_value)"
   ]
  },
  {
   "cell_type": "code",
   "execution_count": 547,
   "metadata": {},
   "outputs": [
    {
     "name": "stdout",
     "output_type": "stream",
     "text": [
      "S(a1) = 0.7255532993705344\n"
     ]
    }
   ],
   "source": [
    "S_a1 = calc_std_a1(Se, X[:, 1], len(Y))\n",
    "print(f'S(a1) = {S_a1}')"
   ]
  },
  {
   "cell_type": "code",
   "execution_count": 548,
   "metadata": {},
   "outputs": [],
   "source": [
    "# względne średnie błędy szacunku\n",
    "\n",
    "def calc_realtive_mean_error(std_a, yt_param):\n",
    "    value = abs(std_a / yt_param) * 100\n",
    "    if value < 50:\n",
    "        print(f'Model oceniamy pozytywnie: względny błąd parametru to {value}')\n",
    "    else:\n",
    "        print(f'Model oceniamy NEGATYWNIE: względny błąd parametru to {value}')\n",
    "    return value"
   ]
  },
  {
   "cell_type": "code",
   "execution_count": 549,
   "metadata": {},
   "outputs": [
    {
     "name": "stdout",
     "output_type": "stream",
     "text": [
      "Model oceniamy pozytywnie: względny błąd parametru to 12.850593481873112\n"
     ]
    },
    {
     "data": {
      "text/plain": [
       "12.850593481873112"
      ]
     },
     "execution_count": 549,
     "metadata": {},
     "output_type": "execute_result"
    }
   ],
   "source": [
    "V_a0 = calc_realtive_mean_error(S_a0, params[0])\n",
    "V_a0"
   ]
  },
  {
   "cell_type": "code",
   "execution_count": 550,
   "metadata": {},
   "outputs": [
    {
     "name": "stdout",
     "output_type": "stream",
     "text": [
      "Model oceniamy pozytywnie: względny błąd parametru to 33.170290156981736\n"
     ]
    },
    {
     "data": {
      "text/plain": [
       "33.170290156981736"
      ]
     },
     "execution_count": 550,
     "metadata": {},
     "output_type": "execute_result"
    }
   ],
   "source": [
    "V_a1 = calc_realtive_mean_error(S_a1, params[1])\n",
    "V_a1"
   ]
  },
  {
   "cell_type": "markdown",
   "metadata": {},
   "source": [
    "# Błędy standardowe ocen parametrów - model z wieloma zmiennymi objaśniającymi"
   ]
  },
  {
   "cell_type": "code",
   "execution_count": 551,
   "metadata": {},
   "outputs": [],
   "source": [
    "def calc_std_errors(inverse_matrix, remainder_variance):\n",
    "    return np.diagonal(remainder_variance * inverse_matrix)"
   ]
  },
  {
   "cell_type": "code",
   "execution_count": 552,
   "metadata": {},
   "outputs": [
    {
     "data": {
      "text/plain": [
       "array([58.99014484,  1.00175724,  0.93831262])"
      ]
     },
     "execution_count": 552,
     "metadata": {},
     "output_type": "execute_result"
    }
   ],
   "source": [
    "# otrzymujemy wariancje błędów\n",
    "\n",
    "D2_a = calc_std_errors(inverse, Se_2)\n",
    "D2_a"
   ]
  },
  {
   "cell_type": "code",
   "execution_count": 553,
   "metadata": {},
   "outputs": [],
   "source": [
    "def get_params_std(error_variance_arr):\n",
    "    std = []\n",
    "    print('Odchylenia standardowe błędów')\n",
    "    for i, el in enumerate(error_variance_arr):\n",
    "        std.append(np.sqrt(el))\n",
    "        print(f'a{i}: {np.sqrt(el)}')\n",
    "    return std"
   ]
  },
  {
   "cell_type": "code",
   "execution_count": 554,
   "metadata": {
    "scrolled": true
   },
   "outputs": [
    {
     "name": "stdout",
     "output_type": "stream",
     "text": [
      "Odchylenia standardowe błędów\n",
      "a0: 7.680504204664109\n",
      "a1: 1.000878235752512\n",
      "a2: 0.9686653794915607\n"
     ]
    }
   ],
   "source": [
    "std_params = get_params_std(D2_a)"
   ]
  },
  {
   "cell_type": "code",
   "execution_count": 555,
   "metadata": {},
   "outputs": [],
   "source": [
    "# błędy względne\n",
    "\n",
    "def relative_errors(model_params, std_errors):\n",
    "    relative_errs = []\n",
    "    if_positive = []\n",
    "    for i in range(len(model_params)): \n",
    "        value = abs(std_errors[i] / model_params[i]) * 100\n",
    "        relative_errs.append(value)\n",
    "        \n",
    "        if value < 50:  \n",
    "            if_positive.append(value)\n",
    "            print(f'Wartość względna wynosi: {value}')\n",
    "        else:\n",
    "            print(f'Wartość względna jest zbyt duża: {value}')\n",
    "    if len(if_positive) == len(model_params):\n",
    "        print('Model oceniamy pozytywnie')\n",
    "    else:\n",
    "        print('Model oceniamy negatywnie')\n",
    "    return relative_errs"
   ]
  },
  {
   "cell_type": "code",
   "execution_count": 556,
   "metadata": {},
   "outputs": [
    {
     "name": "stdout",
     "output_type": "stream",
     "text": [
      "Wartość względna wynosi: 13.03555886912647\n",
      "Wartość względna wynosi: 45.757384771761764\n",
      "Wartość względna wynosi: 29.880841383939494\n",
      "Model oceniamy pozytywnie\n"
     ]
    }
   ],
   "source": [
    "V_a = relative_errors(params, std_params)"
   ]
  },
  {
   "cell_type": "markdown",
   "metadata": {},
   "source": [
    "# Szacowanie istoyności zmiennych objaśniających"
   ]
  },
  {
   "cell_type": "markdown",
   "metadata": {},
   "source": [
    "# -- Test T-Studenta"
   ]
  },
  {
   "cell_type": "code",
   "execution_count": 557,
   "metadata": {},
   "outputs": [],
   "source": [
    "from scipy.stats import t"
   ]
  },
  {
   "cell_type": "markdown",
   "metadata": {},
   "source": [
    "Hipotezy:\n",
    "    - H0: alpha = 0\n",
    "    - H1: alpha != 0"
   ]
  },
  {
   "cell_type": "code",
   "execution_count": 560,
   "metadata": {},
   "outputs": [],
   "source": [
    "def calc_t_student(yt_params, yt_values, params_std, alpha = 0.05):\n",
    "    df = len(yt_values) - len(yt_params)\n",
    "    critical_value = t.ppf(1.0 - alpha/2, df) # alfe dziele na dwa bo jest rozkład o 2 końcach a t.ppf jest dla rozkładu o 1 końcu\n",
    "    print(critical_value)\n",
    "\n",
    "    stats = []\n",
    "\n",
    "    for i, el in enumerate(yt_params):\n",
    "        stat_t = abs(yt_params[i]) / params_std[i]\n",
    "        stats.append(stat_t)\n",
    "        if stat_t < critical_value:\n",
    "            print(f't* > t{i}: t* = {critical_value}, t{i} = {stat_t}')\n",
    "            print(f'Nie ma podstawy by odrzucić hipotezę H0. Oznacza to, że wpływ zmiennej X{i} jest statystycznie nieistoty na zmienną Y.')\n",
    "    \n",
    "    \n",
    "    return stats"
   ]
  },
  {
   "cell_type": "code",
   "execution_count": 561,
   "metadata": {},
   "outputs": [
    {
     "name": "stdout",
     "output_type": "stream",
     "text": [
      "2.3646242510102993\n",
      "t* > t1: t* = 2.3646242510102993, t1 = 2.1854395852997475\n",
      "Nie ma podstawy by odrzucić hipotezę H0. Oznacza to, że wpływ zmiennej X1 jest statystycznie nieistoty na zmienną Y.\n"
     ]
    },
    {
     "data": {
      "text/plain": [
       "[7.671324337067039, 2.1854395852997475, 3.3466259773310303]"
      ]
     },
     "execution_count": 561,
     "metadata": {},
     "output_type": "execute_result"
    }
   ],
   "source": [
    "x = calc_t_student(params, Y, std_params, alpha = 0.05)\n",
    "x"
   ]
  },
  {
   "cell_type": "markdown",
   "metadata": {},
   "source": [
    "# -- Uogólniony test Walda"
   ]
  },
  {
   "cell_type": "markdown",
   "metadata": {},
   "source": [
    "Hipotezy:\n",
    "    - H0: alpha_1 = alpha_2 = ... = alpha_k = 0\n",
    "    - H1: conajmniej jeden z paramterów alpha_i != 0"
   ]
  },
  {
   "cell_type": "code",
   "execution_count": 566,
   "metadata": {
    "scrolled": true
   },
   "outputs": [
    {
     "name": "stdout",
     "output_type": "stream",
     "text": [
      "F > F*  - odrzucamy hipotezę H0 na rzecz hipotezy H1. Oznacza to, że istnieje taka zmienna Xi, która ma statystycznie istotny wpływ na zmienną Y. PRAWDOPODOBIENSTWO POPEŁNIENI BŁĘDU, POLAGAJĄCEGO NA PODJĘCIU ZŁEJ DECYZJI WYNOSI alpha= 0.05\n"
     ]
    },
    {
     "data": {
      "text/plain": [
       "(24.78776331479621, 4.73741412777588)"
      ]
     },
     "execution_count": 566,
     "metadata": {},
     "output_type": "execute_result"
    }
   ],
   "source": [
    "import scipy.stats \n",
    "\n",
    "def f_test(R2, real_y, parameters, alpha = 0.05):\n",
    " \n",
    "    f = (R2 / (1 - R2)) * ((len(real_y) - len(params)) / (len(params) - 1))\n",
    "\n",
    "    dfn = len(params) - 1\n",
    "    dfd = len(real_y) - len(params)\n",
    "    crit = scipy.stats.f.ppf(q=1-alpha, dfn=dfn, dfd=dfd) \n",
    "    if f > crit:\n",
    "        print(f'F > F*  - odrzucamy hipotezę H0 na rzecz hipotezy H1. Oznacza to, że istnieje taka zmienna Xi, która ma statystycznie istotny wpływ na zmienną Y. PRAWDOPODOBIENSTWO POPEŁNIENI BŁĘDU, POLAGAJĄCEGO NA PODJĘCIU ZŁEJ DECYZJI WYNOSI alpha= {alpha}')\n",
    "    else:\n",
    "        print(f'F < F*  - brak podstaw by idrzucić hipotezę H0. Oznacza to, że NIE istnieje taka zmienna Xi, która ma statystycznie istotny wpływ na zmienną Y - wszystkie zmienne są nieistotne dla rezpatrywanego modelu. PRAWDOPODOBIENSTWO POPEŁNIENI BŁĘDU, POLAGAJĄCEGO NA PODJĘCIU ZŁEJ DECYZJI WYNOSI alpha = {alpha}')\n",
    "    return f, crit\n",
    "   \n",
    "\n",
    "#perform F-test\n",
    "f_test(R2, Y, params)"
   ]
  },
  {
   "cell_type": "markdown",
   "metadata": {},
   "source": [
    "# Przedziały ufności dla parametrów alpha_i"
   ]
  },
  {
   "cell_type": "code",
   "execution_count": 589,
   "metadata": {},
   "outputs": [],
   "source": [
    "def calc_t_student(yt_params, yt_values, params_std, alpha = 0.05):\n",
    "    df = len(yt_values) - len(yt_params)\n",
    "    critical_value = t.ppf(1.0 - alpha/2, df) # alfe dziele na dwa bo jest rozkład o 2 końcach a t.ppf jest dla rozkładu o 1 końcu\n",
    "    print(critical_value)\n",
    "\n",
    "    stats = []\n",
    "    print(f'Przedziały ufności dla paramterów modelu szacowane na {(1-alpha)*100}%:')\n",
    "    print('Wartości parametrów mieszczą się w przedziałach:')\n",
    "    for i, el in enumerate(yt_params):\n",
    "        stat_l = yt_params[i] - critical_value * params_std[i]\n",
    "        stat_p = yt_params[i] + critical_value * params_std[i]\n",
    "        \n",
    "        stats.append([stat_l, stat_p])\n",
    "        print(f' - dla alpha{i}: {stat_l, stat_p}')\n",
    "    \n",
    "    \n",
    "    return stats"
   ]
  },
  {
   "cell_type": "code",
   "execution_count": 590,
   "metadata": {},
   "outputs": [
    {
     "name": "stdout",
     "output_type": "stream",
     "text": [
      "2.3646242510102993\n",
      "Przedziały ufności dla paramterów modelu szacowane na 95.0%:\n",
      "Wartości parametrów mieszczą się w przedziałach:\n",
      " - dla alpha0: (40.758132323850184, 77.08114532852082)\n",
      " - dla alpha1: (-0.17934203209028077, 4.554059865047305)\n",
      " - dla alpha2: (0.951231074887839, 5.532290369807517)\n"
     ]
    },
    {
     "data": {
      "text/plain": [
       "[[40.758132323850184, 77.08114532852082],\n",
       " [-0.17934203209028077, 4.554059865047305],\n",
       " [0.951231074887839, 5.532290369807517]]"
      ]
     },
     "execution_count": 590,
     "metadata": {},
     "output_type": "execute_result"
    }
   ],
   "source": [
    "x = calc_t_student(params, Y, std_params, alpha = 0.05)\n",
    "x"
   ]
  },
  {
   "cell_type": "markdown",
   "metadata": {},
   "source": [
    "# Badanie rozkładu odchyleń losowych"
   ]
  },
  {
   "cell_type": "markdown",
   "metadata": {},
   "source": [
    "# - test serii (Wald–Wolfowitz runs test)"
   ]
  },
  {
   "cell_type": "raw",
   "metadata": {},
   "source": [
    "Hipotezy:\n",
    "    - H0: szacowany model ekonometryczny jest liniowy\n",
    "    - H1: szacowany model ekonometryczny NIE jest liniowy"
   ]
  },
  {
   "cell_type": "code",
   "execution_count": 647,
   "metadata": {},
   "outputs": [],
   "source": [
    "import scipy.stats as st"
   ]
  },
  {
   "cell_type": "code",
   "execution_count": 707,
   "metadata": {},
   "outputs": [],
   "source": [
    "def calc_runs_test(remainder_err, alpha= 0.05):\n",
    "    series = []\n",
    "    prev = remainder_err[0]\n",
    "    \n",
    "    for el in remainder_err:\n",
    "        if el < 0:\n",
    "            series.append('B')\n",
    "        elif el > 0:\n",
    "            series.append('A')\n",
    "        elif el == 0:\n",
    "            continue\n",
    "    \n",
    "    n1 = reduce(lambda x, y: x + 1 if y == 'A' else x, series, 0)\n",
    "    n2 = reduce(lambda x, y: x + 1 if y == 'B' else x, series, 0)\n",
    "    \n",
    "    r = 0\n",
    "    prev = 'x'\n",
    "    for el in series:\n",
    "        if el != prev:\n",
    "            r += 1\n",
    "            prev = el\n",
    "        elif el == prev:\n",
    "            prev = el\n",
    "    \n",
    "    N = n1+n2\n",
    "    mean = 2*n1*n2/ N + 1\n",
    "#     print(n1, n2, r, mean)\n",
    "    \n",
    "    variance = (mean-1)*(mean-2) / (N-1)\n",
    "#     print(variance)\n",
    "    z = (r - mean) / np.sqrt(variance)\n",
    "    z_crit = st.norm.ppf(1-alpha, mean, np.sqrt(variance))\n",
    "    if z < z_crit:\n",
    "        print('Nie ma podstaw by odrzucić hipotezę H0 - występuje liniowa zależność zmiennych X od zmiennej Y.')\n",
    "    else:\n",
    "        print('Odrzucamy H0 na korzyść H1 - występuje ieliniowa zależność między zmiennymi X a amienną Y.')\n",
    "    \n",
    "    return z, z_crit\n",
    "         "
   ]
  },
  {
   "cell_type": "code",
   "execution_count": 710,
   "metadata": {
    "scrolled": true
   },
   "outputs": [
    {
     "name": "stdout",
     "output_type": "stream",
     "text": [
      "Nie ma podstaw by odrzucić hipotezę H0 - występuje liniowa zależność zmiennych X od zmiennej Y.\n"
     ]
    },
    {
     "data": {
      "text/plain": [
       "(0.4016096644512493, 7.71980694543705)"
      ]
     },
     "execution_count": 710,
     "metadata": {},
     "output_type": "execute_result"
    }
   ],
   "source": [
    "a = calc_runs_test([-1.12, 0.77, -0.17, -0.34, 1.88, -0.01, -0.73, 0.65, 0.91])\n",
    "a"
   ]
  },
  {
   "cell_type": "raw",
   "metadata": {},
   "source": [
    "Opcja II"
   ]
  },
  {
   "cell_type": "code",
   "execution_count": 683,
   "metadata": {},
   "outputs": [],
   "source": [
    "from statsmodels.sandbox.stats.runs import runstest_1samp\n",
    "\n",
    "def calc_runs_test(remainder_err, alpha=0.05):\n",
    "    crit = runstest_1samp(remainder_err, correction=False)[1]\n",
    "    \n",
    "    if crit > alpha:\n",
    "        print('Nie ma podstaw by odrzucić hipotezę H0 - występuje liniowa zależność zmiennych X od zmiennej Y.')\n",
    "    else:\n",
    "        print('Odrzucamy H0 na korzyść H1 - występuje ieliniowa zależność między zmiennymi X a amienną Y.')"
   ]
  },
  {
   "cell_type": "code",
   "execution_count": 684,
   "metadata": {},
   "outputs": [
    {
     "name": "stdout",
     "output_type": "stream",
     "text": [
      "Nie ma podstaw by odrzucić hipotezę H0 - występuje liniowa zależność zmiennych X od zmiennej Y.\n"
     ]
    }
   ],
   "source": [
    "calc_runs_test(e)"
   ]
  },
  {
   "cell_type": "code",
   "execution_count": 709,
   "metadata": {},
   "outputs": [
    {
     "data": {
      "text/plain": [
       "[-2.0020316027090104,\n",
       " -2.672911963882882,\n",
       " -2.2893905191875916,\n",
       " -0.10203160270907574,\n",
       " 3.856207674943363,\n",
       " 0.42708803611716917,\n",
       " -4.627313769751993,\n",
       " 0.6232505643339579,\n",
       " 7.08532731376944,\n",
       " -0.29819413092586444]"
      ]
     },
     "execution_count": 709,
     "metadata": {},
     "output_type": "execute_result"
    }
   ],
   "source": [
    "e"
   ]
  },
  {
   "cell_type": "markdown",
   "metadata": {},
   "source": [
    "# - test Shapiro-Wilka"
   ]
  },
  {
   "cell_type": "raw",
   "metadata": {},
   "source": [
    "Hipotezy:\n",
    "    - H0: rozkład odchyleń ma rozkład losowy\n",
    "    - H1: rozkład odchyleń NIE jest losowy"
   ]
  },
  {
   "cell_type": "code",
   "execution_count": 718,
   "metadata": {},
   "outputs": [],
   "source": [
    "from scipy.stats import shapiro\n",
    "\n",
    "def calc_shapiro_wilk_rate(remainder_err):\n",
    "\n",
    "    stat, p = shapiro(remainder_err)\n",
    "    print('stat=%.3f, p=%.3f' % (stat, p))\n",
    "    if p > 0.05:\n",
    "        print('Nie ma podstaw by odrzucić hipotezę H0 - rozkład odchyleń losowych jest losowy.')\n",
    "        print('Model oceniamy pozytywnie.')\n",
    "    else:\n",
    "        print('Odrzycamy H0 na korzyść H1 - rozkład odchyleń losowych NIE jest losowy.')\n",
    "        print('Model oceniamy negatywnie.')\n",
    "    return (stat, p)"
   ]
  },
  {
   "cell_type": "code",
   "execution_count": 719,
   "metadata": {},
   "outputs": [
    {
     "name": "stdout",
     "output_type": "stream",
     "text": [
      "stat=0.972, p=0.910\n",
      "Nie ma podstaw by odrzucić hipotezę H0 - rozkład odchyleń losowych jest losowy.\n",
      "Model oceniamy pozytywnie.\n"
     ]
    }
   ],
   "source": [
    "shapiro_wilk = calc_shapiro_wilk_rate([-1.12, 0.77, -0.17, -0.34, 1.88, -0.01, -0.73, 0.65, 0.91])"
   ]
  },
  {
   "cell_type": "markdown",
   "metadata": {},
   "source": [
    "# - test Harrisona-McCabe'a"
   ]
  },
  {
   "cell_type": "raw",
   "metadata": {},
   "source": [
    "Jeżeli testy: test serii oraz test Shapiro-Wilka przeszły pozytywnie (hipoteza H0), to można wykonać test Harrisona - McCabe'a"
   ]
  },
  {
   "cell_type": "raw",
   "metadata": {},
   "source": [
    "Hipotezy:\n",
    "    - H0: składnik losowy jest homoskedastyczny\n",
    "    - H1: składnij losowy jest heterskedastyczny"
   ]
  },
  {
   "cell_type": "code",
   "execution_count": 746,
   "metadata": {},
   "outputs": [],
   "source": [
    "def calc_Harrison_McCabe(remainder_err, alpha=0.05):\n",
    "    n = len(remainder_err) \n",
    "    if n % 2 == 0:\n",
    "        m = n // 2\n",
    "    else:\n",
    "        m = (n - 1) // 2\n",
    "    \n",
    "    et2_n = sum([x**2 for x in remainder_err])\n",
    "    et2_m = sum([x**2 for x in remainder_err[:m]])\n",
    "    \n",
    "    b = et2_m / et2_n\n",
    "    F1 = scipy.stats.f.ppf(q=1-alpha, dfn=n-m, dfd=m-3) # ta 3 tu do zmiany\n",
    "    F2 = scipy.stats.f.ppf(q=1-alpha, dfn=n-m-3, dfd=m)\n",
    "    \n",
    "    b_lower = np.power( 1 + ((n-m)*F1) / (m-(3))  , -1)\n",
    "    b_upper = np.power(   1 + ((n-m-3)*F2) / m    , -1)\n",
    "    \n",
    "    if b <= b_lower:\n",
    "        print('Odrzucamy H0 na korzyść H1. Model oceniamy negatywnie')\n",
    "    elif b > b_lower and b < b_upper:\n",
    "        print('Obszar nierozstrzygalności')\n",
    "    elif b >= b_upper:\n",
    "        print('Nie ma podstaw by odrzucić H0. Model oceniamy pozytywnie')\n",
    "    return (b_lower, b, b_upper)"
   ]
  },
  {
   "cell_type": "code",
   "execution_count": 747,
   "metadata": {
    "scrolled": true
   },
   "outputs": [
    {
     "name": "stdout",
     "output_type": "stream",
     "text": [
      "Nie ma podstaw by odrzucić H0. Model oceniamy pozytywnie\n"
     ]
    },
    {
     "data": {
      "text/plain": [
       "(0.000868199207441805, 0.27248351528085585, 0.22360679774997905)"
      ]
     },
     "execution_count": 747,
     "metadata": {},
     "output_type": "execute_result"
    }
   ],
   "source": [
    "harrison_mccabe = calc_Harrison_McCabe([-1.12, 0.77, -0.17, -0.34, 1.88, -0.01, -0.73, 0.65, 0.91], alpha=0.05)\n",
    "harrison_mccabe"
   ]
  },
  {
   "cell_type": "markdown",
   "metadata": {},
   "source": [
    "# Autokorelacja reszt"
   ]
  },
  {
   "cell_type": "code",
   "execution_count": 751,
   "metadata": {},
   "outputs": [],
   "source": [
    "def calc_ro(remainder_err):\n",
    "    nominator = sum([remainder_err[x] * remainder_err[x-1] for x in range(1, len(remainder_err))])\n",
    "    denominator = np.sqrt(sum([x**2 for x in remainder_err[1:]])) * np.sqrt(sum([x**2 for x in remainder_err[:-1]]))\n",
    "    return nominator / denominator"
   ]
  },
  {
   "cell_type": "code",
   "execution_count": 753,
   "metadata": {},
   "outputs": [
    {
     "data": {
      "text/plain": [
       "-0.23451198261737427"
      ]
     },
     "execution_count": 753,
     "metadata": {},
     "output_type": "execute_result"
    }
   ],
   "source": [
    "ro_value = calc_ro([-1.12, 0.77, -0.17, -0.34, 1.88, -0.01, -0.73, 0.65, 0.91])\n",
    "ro_value"
   ]
  },
  {
   "cell_type": "code",
   "execution_count": 756,
   "metadata": {},
   "outputs": [
    {
     "name": "stdout",
     "output_type": "stream",
     "text": [
      "Podejrzewamy, że autokorelacja jest nieistotna\n"
     ]
    }
   ],
   "source": [
    "if ro_value < 0.3:\n",
    "    print('Podejrzewamy, że autokorelacja jest nieistotna')\n",
    "else:\n",
    "    print('Istnieje podejrzenie, że autokorelacja składnika losowego jest istotna. Należy wykonac test Durbina - Watsona')"
   ]
  },
  {
   "cell_type": "markdown",
   "metadata": {},
   "source": [
    "# Test Durbina-Watsona\n"
   ]
  },
  {
   "cell_type": "raw",
   "metadata": {},
   "source": [
    "Hipotezy:\n",
    "    - H0: ro = 0\n",
    "    - H1: ro !=0 lub ro < 0 lub ro > 0\n",
    "    "
   ]
  },
  {
   "cell_type": "raw",
   "metadata": {},
   "source": [
    "ro_value jest mnejsze od 0 -> ro < 0, więc:\n",
    "    H1: ro < 0"
   ]
  },
  {
   "cell_type": "code",
   "execution_count": 757,
   "metadata": {},
   "outputs": [],
   "source": [
    "from statsmodels.stats.stattools import durbin_watson"
   ]
  },
  {
   "cell_type": "code",
   "execution_count": 764,
   "metadata": {},
   "outputs": [],
   "source": [
    "def calc_durbin_watson(remainder_err):\n",
    "    print(f'Wartość statystyki wynosi {durbin_watson(remainder_err)}')\n",
    "    return durbin_watson(remainder_err)"
   ]
  },
  {
   "cell_type": "code",
   "execution_count": 765,
   "metadata": {},
   "outputs": [
    {
     "name": "stdout",
     "output_type": "stream",
     "text": [
      "Wartość statystyki wynosi 2.1170893868505294\n"
     ]
    },
    {
     "data": {
      "text/plain": [
       "2.1170893868505294"
      ]
     },
     "execution_count": 765,
     "metadata": {},
     "output_type": "execute_result"
    }
   ],
   "source": [
    "DW = calc_durbin_watson([-1.12, 0.77, -0.17, -0.34, 1.88, -0.01, -0.73, 0.65, 0.91])\n",
    "DW"
   ]
  },
  {
   "cell_type": "code",
   "execution_count": 766,
   "metadata": {},
   "outputs": [
    {
     "name": "stdout",
     "output_type": "stream",
     "text": [
      "Wartość statystyki mieści się w przedziale [0, 4]\n"
     ]
    }
   ],
   "source": [
    "if DW >= 0 and DW <=4:\n",
    "    print('Wartość statystyki mieści się w przedziale [0, 4]')\n",
    "else:\n",
    "    print('Wartość statystyki NIE mieści się w przedziale [0, 4], prawdopodobny błąd w obliczeniach')"
   ]
  },
  {
   "cell_type": "raw",
   "metadata": {},
   "source": [
    "wartości z tablic DW:\n",
    "    d_l (k, n) = 0.62910\n",
    "    d_u (k, n) = 0.69926\n",
    "    \n",
    "    ro < 0, więc trzeba policzyć:\n",
    "        4 - d_l = 3.37090\n",
    "        4 - d_u = 2.30074\n",
    "        \n",
    "    Podsumowanie:\n",
    "        d_u < DW < 4 - d_l\n",
    "        \n",
    "    Odp. Nie ma podstaw by odrzucić hipotezę H0 - model oceniamy pozytywnie. "
   ]
  },
  {
   "cell_type": "markdown",
   "metadata": {},
   "source": [
    "# Prognozowanie na podstawie modelu"
   ]
  },
  {
   "cell_type": "markdown",
   "metadata": {},
   "source": [
    "yt = b + at"
   ]
  },
  {
   "cell_type": "code",
   "execution_count": 784,
   "metadata": {},
   "outputs": [],
   "source": [
    "Y = np.array([10,15,13,17,18,25,22,20,25,35,30,35,38,40,41])\n",
    "t = np.array([[1,1,1,1,1,1,1,1,1,1,1,1,1,1,1],[1,2,3,4,5,6,7,8,9,10,11,12,13,14,15]]).T\n"
   ]
  },
  {
   "cell_type": "code",
   "execution_count": 804,
   "metadata": {},
   "outputs": [],
   "source": [
    "def get_parameter_a(t_values, yt_values):\n",
    "    t_mean = np.mean(t_values)\n",
    "    y_mean = np.mean(yt_values)\n",
    "    \n",
    "    nominator = 0\n",
    "    denominator = 0\n",
    "    for i in range(len(yt_values)):\n",
    "        nominator += (t_values[i] - t_mean) * (yt_values[i] - y_mean)\n",
    "        denominator += np.power((t_values[i] - t_mean),2)\n",
    "    return nominator / denominator"
   ]
  },
  {
   "cell_type": "code",
   "execution_count": 806,
   "metadata": {},
   "outputs": [
    {
     "data": {
      "text/plain": [
       "2.225"
      ]
     },
     "execution_count": 806,
     "metadata": {},
     "output_type": "execute_result"
    }
   ],
   "source": [
    "a = get_parameter_a(t[:,1], Y)\n",
    "a"
   ]
  },
  {
   "cell_type": "code",
   "execution_count": 807,
   "metadata": {},
   "outputs": [],
   "source": [
    "def get_parameter_b(t_values, yt_values, param_a):\n",
    "    t_mean = np.mean(t_values)\n",
    "    y_mean = np.mean(yt_values)\n",
    "    b = y_mean - param_a * t_mean\n",
    "    return b"
   ]
  },
  {
   "cell_type": "code",
   "execution_count": 808,
   "metadata": {},
   "outputs": [
    {
     "data": {
      "text/plain": [
       "7.800000000000001"
      ]
     },
     "execution_count": 808,
     "metadata": {},
     "output_type": "execute_result"
    }
   ],
   "source": [
    "b = get_parameter_b(t[:,1], Y, a)\n",
    "b"
   ]
  },
  {
   "cell_type": "code",
   "execution_count": 816,
   "metadata": {},
   "outputs": [
    {
     "name": "stdout",
     "output_type": "stream",
     "text": [
      "yt = 7.800 + 2.225 t\n"
     ]
    }
   ],
   "source": [
    "print(f'yt = {b:.3f} + {a} t')\n",
    "    "
   ]
  },
  {
   "cell_type": "code",
   "execution_count": 820,
   "metadata": {},
   "outputs": [],
   "source": [
    "yt = [b + a*t for t in t[:, 1]]\n"
   ]
  },
  {
   "cell_type": "code",
   "execution_count": 828,
   "metadata": {},
   "outputs": [],
   "source": [
    "import matplotlib.pyplot as plt\n"
   ]
  },
  {
   "cell_type": "code",
   "execution_count": 829,
   "metadata": {},
   "outputs": [
    {
     "data": {
      "text/plain": [
       "[<matplotlib.lines.Line2D at 0x1e0af594dc8>]"
      ]
     },
     "execution_count": 829,
     "metadata": {},
     "output_type": "execute_result"
    },
    {
     "data": {
      "image/png": "[encoded data removed]",
      "text/plain": [
       "<Figure size 432x288 with 1 Axes>"
      ]
     },
     "metadata": {
      "needs_background": "light"
     },
     "output_type": "display_data"
    }
   ],
   "source": [
    "plt.plot(t[:,1],Y)\n",
    "plt.plot(t[:,1],yt,\"r--\")\n"
   ]
  },
  {
   "cell_type": "code",
   "execution_count": null,
   "metadata": {},
   "outputs": [],
   "source": []
  }
 ],
 "metadata": {
  "kernelspec": {
   "display_name": "Python 3",
   "language": "python",
   "name": "python3"
  },
  "language_info": {
   "codemirror_mode": {
    "name": "ipython",
    "version": 3
   },
   "file_extension": ".py",
   "mimetype": "text/x-python",
   "name": "python",
   "nbconvert_exporter": "python",
   "pygments_lexer": "ipython3",
   "version": "3.7.4"
  }
 },
 "nbformat": 4,
 "nbformat_minor": 2
}
